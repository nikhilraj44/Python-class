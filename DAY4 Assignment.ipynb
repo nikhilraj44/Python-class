{
 "cells": [
  {
   "cell_type": "code",
   "execution_count": 9,
   "metadata": {},
   "outputs": [
    {
     "name": "stdout",
     "output_type": "stream",
     "text": [
      "Enter the stringwe are one, we are python programmers\n",
      "String given= we are one, we are python programmers\n",
      "Input the word to findwe\n",
      "'we' is present in 'we are one, we are python programmers' as: 1--> 0 \n",
      "'we' is present in 'we are one, we are python programmers' as: 2--> 12 \n"
     ]
    }
   ],
   "source": [
    "#Assignment1\n",
    "str1=input(\"Enter the string\")\n",
    "print(\"String given=\",str1)\n",
    "str2=input((\"Input the word to find\"))\n",
    "count=0\n",
    "for each in range(len(str1)):\n",
    "    if str1.startswith(str2,each):\n",
    "        count=count+1\n",
    "        print(f\"'{str2}' is present in '{str1}' as: {count}--> {each} \")\n",
    "if count==0:\n",
    "    print(f\"The '{str2}' is not present in '{str1}'\")"
   ]
  },
  {
   "cell_type": "code",
   "execution_count": 11,
   "metadata": {},
   "outputs": [
    {
     "name": "stdout",
     "output_type": "stream",
     "text": [
      "Enter number of strings you want check:4\n",
      "Enter the stringwe are python programmers\n",
      "It contains alphabet and numbers\n",
      "The given string is uppercase: False\n",
      "The given string is lowercase: True\n",
      "Enter the stringWE ARE PYTHON PROGRAMMERS\n",
      "It contains alphabet and numbers\n",
      "The given string is uppercase: True\n",
      "The given string is lowercase: False\n",
      "Enter the string12345678\n",
      "It contains full of numbers\n",
      "The given string is uppercase: False\n",
      "The given string is lowercase: False\n",
      "Enter the string123ABCD\n",
      "It contains alphabet and numbers\n",
      "The given string is uppercase: True\n",
      "The given string is lowercase: False\n"
     ]
    }
   ],
   "source": [
    "#Assignment2\n",
    "n= int(input(\"Enter number of strings you want check:\"))\n",
    "for i in range(0,n):\n",
    "  str2= input(\"Enter the string\")\n",
    "  if str2.isalpha():\n",
    "    print(\"It contains full of alphabet\")\n",
    "  elif str2.isdigit():\n",
    "    print(\"It contains full of numbers\")\n",
    "  else:\n",
    "    print(\"It contains alphabet and numbers\")\n",
    "  upr= str2.isupper()\n",
    "  print(\"The given string is uppercase:\",upr)\n",
    "  lwr= str2.islower()\n",
    "  print(\"The given string is lowercase:\",lwr)"
   ]
  },
  {
   "cell_type": "code",
   "execution_count": null,
   "metadata": {},
   "outputs": [],
   "source": []
  }
 ],
 "metadata": {
  "kernelspec": {
   "display_name": "Python 3",
   "language": "python",
   "name": "python3"
  },
  "language_info": {
   "codemirror_mode": {
    "name": "ipython",
    "version": 3
   },
   "file_extension": ".py",
   "mimetype": "text/x-python",
   "name": "python",
   "nbconvert_exporter": "python",
   "pygments_lexer": "ipython3",
   "version": "3.6.4"
  }
 },
 "nbformat": 4,
 "nbformat_minor": 2
}
