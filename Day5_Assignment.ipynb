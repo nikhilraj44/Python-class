{
 "cells": [
  {
   "cell_type": "code",
   "execution_count": 1,
   "metadata": {},
   "outputs": [
    {
     "name": "stdout",
     "output_type": "stream",
     "text": [
      "[1, 1, 1, 2, 2, 3, 4, 10, 56, 0, 0, 0, 0]\n"
     ]
    }
   ],
   "source": [
    "#Assignment1\n",
    "list1=[0,1,2,10,4,1,0,56,2,0,1,3,0]\n",
    "list1.sort()\n",
    "for i in list1:\n",
    "    if i==0:\n",
    "        list1.append(i)\n",
    "        del list1[i]\n",
    "print(list1)"
   ]
  },
  {
   "cell_type": "code",
   "execution_count": 3,
   "metadata": {},
   "outputs": [
    {
     "name": "stdout",
     "output_type": "stream",
     "text": [
      "Before sorting---> [10, 20, 40, 60, 70, 80, 5, 15, 25, 35, 45, 60]\n",
      "After sorting--> [5, 10, 15, 20, 25, 35, 40, 45, 60, 60, 70, 80]\n"
     ]
    }
   ],
   "source": [
    "#Assignment2\n",
    "list1=[10,20,40,60,70,80]\n",
    "list2=[5,15,25,35,45,60]\n",
    "list3=list1+list2\n",
    "print(\"Before sorting--->\",list3)\n",
    "n=0\n",
    "i=0\n",
    "while i<len(list3)-1:\n",
    "    if(list3[i]>list3[i+1]):\n",
    "        n=list3[i]\n",
    "        list3[i]=list3[i+1]\n",
    "        list3[i+1]=n\n",
    "        i=-1\n",
    "    i=i+1\n",
    "print(\"After sorting-->\",list3)\n",
    "        "
   ]
  },
  {
   "cell_type": "code",
   "execution_count": null,
   "metadata": {},
   "outputs": [],
   "source": []
  }
 ],
 "metadata": {
  "kernelspec": {
   "display_name": "Python 3",
   "language": "python",
   "name": "python3"
  },
  "language_info": {
   "codemirror_mode": {
    "name": "ipython",
    "version": 3
   },
   "file_extension": ".py",
   "mimetype": "text/x-python",
   "name": "python",
   "nbconvert_exporter": "python",
   "pygments_lexer": "ipython3",
   "version": "3.7.4"
  }
 },
 "nbformat": 4,
 "nbformat_minor": 4
}
