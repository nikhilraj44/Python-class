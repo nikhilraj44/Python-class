{
 "cells": [
  {
   "cell_type": "markdown",
   "metadata": {},
   "source": [
    "## Basic Python Syntax"
   ]
  },
  {
   "cell_type": "markdown",
   "metadata": {},
   "source": [
    "### Back slash"
   ]
  },
  {
   "cell_type": "code",
   "execution_count": 2,
   "metadata": {
    "scrolled": true
   },
   "outputs": [
    {
     "ename": "SyntaxError",
     "evalue": "EOL while scanning string literal (<ipython-input-2-c0be691d0cdb>, line 1)",
     "output_type": "error",
     "traceback": [
      "\u001b[1;36m  File \u001b[1;32m\"<ipython-input-2-c0be691d0cdb>\"\u001b[1;36m, line \u001b[1;32m1\u001b[0m\n\u001b[1;33m    print(\"Hello\u001b[0m\n\u001b[1;37m                ^\u001b[0m\n\u001b[1;31mSyntaxError\u001b[0m\u001b[1;31m:\u001b[0m EOL while scanning string literal\n"
     ]
    }
   ],
   "source": [
    "print(\"Hello\n",
    "      python\")"
   ]
  },
  {
   "cell_type": "markdown",
   "metadata": {},
   "source": [
    "The above code shows error while we running this can be resolved by using {Back slash} which tells interpreter that the string still continuous"
   ]
  },
  {
   "cell_type": "code",
   "execution_count": 4,
   "metadata": {},
   "outputs": [
    {
     "name": "stdout",
     "output_type": "stream",
     "text": [
      "Hello       Python\n"
     ]
    }
   ],
   "source": [
    "print(\"Hello \\\n",
    "    Python\")"
   ]
  },
  {
   "cell_type": "markdown",
   "metadata": {},
   "source": [
    "### Triple Quotes"
   ]
  },
  {
   "cell_type": "markdown",
   "metadata": {},
   "source": [
    "Uses:<br>\n",
    "    1.You want to print a text art<br>\n",
    "    2.If You want to make a doc string(document string)<br>\n",
    "    {ie, The interpreter does not shows any output whle runnig doc string}<br>\n",
    "    3.Can be used to writte sql queries"
   ]
  },
  {
   "cell_type": "markdown",
   "metadata": {},
   "source": [
    "<h4>1.Text Art Printing</h4>"
   ]
  },
  {
   "cell_type": "code",
   "execution_count": 1,
   "metadata": {},
   "outputs": [
    {
     "name": "stdout",
     "output_type": "stream",
     "text": [
      "\n",
      "\n",
      "                            ∩\n",
      "　　　　　　　＼＼\n",
      "　　　　　　　／　 ）\n",
      "⊂＼＿／￣￣￣　 ／\n",
      "　＼＿／   ° ͜ʖ ° （\n",
      "　　　）　　 　／⌒＼\n",
      "　　／　 ＿＿＿／⌒＼⊃\n",
      "　（　 ／\n",
      "　　＼＼\n",
      "           U\n",
      "\n",
      "\n"
     ]
    }
   ],
   "source": [
    "print(\"\"\"\n",
    "\n",
    "                            ∩\n",
    "　　　　　　　＼＼\n",
    "　　　　　　　／　 ）\n",
    "⊂＼＿／￣￣￣　 ／\n",
    "　＼＿／   ° ͜ʖ ° （\n",
    "　　　）　　 　／⌒＼\n",
    "　　／　 ＿＿＿／⌒＼⊃\n",
    "　（　 ／\n",
    "　　＼＼\n",
    "           U\n",
    "\n",
    "\"\"\")"
   ]
  },
  {
   "cell_type": "markdown",
   "metadata": {},
   "source": [
    "<h4>2.Doc String</h4>"
   ]
  },
  {
   "cell_type": "code",
   "execution_count": 6,
   "metadata": {},
   "outputs": [
    {
     "data": {
      "text/plain": [
       "'\\nThis is a Doc string\\n'"
      ]
     },
     "execution_count": 6,
     "metadata": {},
     "output_type": "execute_result"
    }
   ],
   "source": [
    "\"\"\"\n",
    "This is a Doc string\n",
    "\"\"\""
   ]
  },
  {
   "cell_type": "markdown",
   "metadata": {},
   "source": [
    "<h4>3.sql query</h4>"
   ]
  },
  {
   "cell_type": "code",
   "execution_count": 9,
   "metadata": {},
   "outputs": [],
   "source": [
    "a= \"\"\" This is an sql query and run it in mysql \"\"\""
   ]
  },
  {
   "cell_type": "markdown",
   "metadata": {},
   "source": [
    "### String inside the quotes"
   ]
  },
  {
   "cell_type": "code",
   "execution_count": 11,
   "metadata": {},
   "outputs": [
    {
     "ename": "SyntaxError",
     "evalue": "invalid syntax (<ipython-input-11-3f3d487a621e>, line 1)",
     "output_type": "error",
     "traceback": [
      "\u001b[1;36m  File \u001b[1;32m\"<ipython-input-11-3f3d487a621e>\"\u001b[1;36m, line \u001b[1;32m1\u001b[0m\n\u001b[1;33m    print('python's world')\u001b[0m\n\u001b[1;37m                  ^\u001b[0m\n\u001b[1;31mSyntaxError\u001b[0m\u001b[1;31m:\u001b[0m invalid syntax\n"
     ]
    }
   ],
   "source": [
    "print('python's world')"
   ]
  },
  {
   "cell_type": "markdown",
   "metadata": {},
   "source": [
    "The above code shows error \"becuase the intepreter understands the apostrophy used is it's syntax\""
   ]
  },
  {
   "cell_type": "code",
   "execution_count": 12,
   "metadata": {},
   "outputs": [
    {
     "name": "stdout",
     "output_type": "stream",
     "text": [
      "Python's world\n"
     ]
    }
   ],
   "source": [
    "print(\"Python's world\")"
   ]
  },
  {
   "cell_type": "markdown",
   "metadata": {},
   "source": [
    "## Escape Sequence of string"
   ]
  },
  {
   "cell_type": "code",
   "execution_count": 1,
   "metadata": {},
   "outputs": [
    {
     "name": "stdout",
     "output_type": "stream",
     "text": [
      "Hello\tPython\n"
     ]
    }
   ],
   "source": [
    "print(\"Hello\\tPython\")   #\\t tab_space escape sequence"
   ]
  },
  {
   "cell_type": "code",
   "execution_count": 2,
   "metadata": {},
   "outputs": [
    {
     "name": "stdout",
     "output_type": "stream",
     "text": [
      "Hello\n",
      "Python\n"
     ]
    }
   ],
   "source": [
    "print(\"Hello\\nPython\")    #\\n New_line escape sequence"
   ]
  },
  {
   "cell_type": "markdown",
   "metadata": {},
   "source": [
    "In above example we got error using string in quotes(in case of single quotes) The Back_slash is a continuation sign where intepreter understands the apostrophy used is not it's syntax"
   ]
  },
  {
   "cell_type": "code",
   "execution_count": 3,
   "metadata": {},
   "outputs": [
    {
     "name": "stdout",
     "output_type": "stream",
     "text": [
      "Python's World\n"
     ]
    }
   ],
   "source": [
    "print('Python\\'s World')   "
   ]
  },
  {
   "cell_type": "code",
   "execution_count": 4,
   "metadata": {},
   "outputs": [
    {
     "name": "stdout",
     "output_type": "stream",
     "text": [
      "HEllo\u0007sound\n"
     ]
    }
   ],
   "source": [
    "print('HEllo\\asound')    #\\a alert beep sound in shell"
   ]
  },
  {
   "cell_type": "markdown",
   "metadata": {},
   "source": [
    "## Formatted Output"
   ]
  },
  {
   "cell_type": "code",
   "execution_count": 6,
   "metadata": {},
   "outputs": [
    {
     "name": "stdout",
     "output_type": "stream",
     "text": [
      "The name of person is  xyz Marks is 90.894 age is, 20\n"
     ]
    }
   ],
   "source": [
    "name = 'xyz'\n",
    "marks= 90.894\n",
    "age= 20\n",
    "print(\"The name of person is \", name,\"Marks is\", marks, \"age is,\", age)"
   ]
  },
  {
   "cell_type": "markdown",
   "metadata": {},
   "source": [
    "In formatted output we can use % function to reduce sentence complexity<br>\n",
    "and also it can be used in writing sql queries<br>\n",
    "%s-string<br>\n",
    "%f-float<br>\n",
    "%d-Integer<br>\n",
    "%10s-gives this number(say=10) of space in  string value(this can be applied in all % values )<br>\n",
    "%.2f-gives the value of 2 decimal point(say=.2) precision(ie,98.894~98.89)<br>"
   ]
  },
  {
   "cell_type": "code",
   "execution_count": 10,
   "metadata": {},
   "outputs": [
    {
     "name": "stdout",
     "output_type": "stream",
     "text": [
      "The name of person is        xyz marks is 90.89 age is 20\n"
     ]
    }
   ],
   "source": [
    "print(\"The name of person is %10s marks is %.2f age is %d\"%(name,marks,age))"
   ]
  },
  {
   "cell_type": "markdown",
   "metadata": {},
   "source": [
    "Another way of printing<bR>\n",
    "    this method will work of python version >3.4\n"
   ]
  },
  {
   "cell_type": "code",
   "execution_count": 11,
   "metadata": {},
   "outputs": [
    {
     "name": "stdout",
     "output_type": "stream",
     "text": [
      "The name of person is xyz the marks is 90.894 age is 20\n"
     ]
    }
   ],
   "source": [
    "print(f\"The name of person is {name} the marks is {marks} age is {age}\")"
   ]
  },
  {
   "cell_type": "markdown",
   "metadata": {},
   "source": [
    "# Python Variable and Assignment"
   ]
  },
  {
   "cell_type": "markdown",
   "metadata": {},
   "source": [
    "### Variable"
   ]
  },
  {
   "cell_type": "markdown",
   "metadata": {},
   "source": [
    "Variable means linking of data to a name<br>\n",
    "According to the data-type, the interpreter reserves the memory space<br>\n",
    "Variable refers to the memory location that contains the data<br>\n",
    "\n"
   ]
  },
  {
   "cell_type": "markdown",
   "metadata": {},
   "source": [
    "Rules:<br>\n",
    "    1.do not use-keyword(def,in,...)<br>\n",
    "    2.do not start wiht a number<br>\n",
    "    3.Python is case sensitive<br>\n",
    "    4.variables can contain letters(both upper and lower),numbers,underscore<br>\n",
    "    5.A Variable is assigned to data by using the assignment operator"
   ]
  },
  {
   "cell_type": "markdown",
   "metadata": {},
   "source": [
    "### Python Assignment Statement"
   ]
  },
  {
   "cell_type": "code",
   "execution_count": 18,
   "metadata": {},
   "outputs": [
    {
     "name": "stdout",
     "output_type": "stream",
     "text": [
      "140709312632224\n",
      "140709312631904\n",
      "140709312631904\n"
     ]
    }
   ],
   "source": [
    "x=20\n",
    "y=z=10\n",
    "print(id(x))           #Here  id() gives the location address\n",
    "print(id(y))\n",
    "print(id(z))\n",
    "                       # id() of variable y and z gives same address how?"
   ]
  },
  {
   "cell_type": "markdown",
   "metadata": {},
   "source": [
    "In above code variable y and z pointing to same memory object"
   ]
  },
  {
   "cell_type": "code",
   "execution_count": null,
   "metadata": {},
   "outputs": [],
   "source": [
    "del y  # del used for deleting"
   ]
  },
  {
   "cell_type": "markdown",
   "metadata": {},
   "source": [
    "Here Deletion means not deleting the value(20) but deleting the binding<br>\n",
    "ie, removing the address pointing to the varible"
   ]
  },
  {
   "cell_type": "markdown",
   "metadata": {},
   "source": [
    "### Python Operators"
   ]
  },
  {
   "cell_type": "markdown",
   "metadata": {},
   "source": [
    "1.Arithmetic operators<br>\n",
    "2.Comparison operators<br>\n",
    "3.Assignment operators<br>\n",
    "4.Bitwise operators<br>\n",
    "5.Logical operators<br>\n",
    "6.Membership operators<br>\n",
    "7.Identity operators<br>"
   ]
  },
  {
   "cell_type": "markdown",
   "metadata": {},
   "source": [
    "### 1.Arithmetic"
   ]
  },
  {
   "cell_type": "code",
   "execution_count": 26,
   "metadata": {},
   "outputs": [
    {
     "name": "stdout",
     "output_type": "stream",
     "text": [
      "9\n",
      "12\n",
      "1\n",
      "7\n",
      "5\n",
      "4.0\n",
      "3\n"
     ]
    }
   ],
   "source": [
    "# ** performes exponential calculation\n",
    "print(3**2)\n",
    "\n",
    "# * performes multiplication\n",
    "print(3*4)\n",
    "\n",
    "# % performes modulation(gives the reminder value)\n",
    "print(11%10)\n",
    "\n",
    "# + performes addition\n",
    "print(5+2)\n",
    "\n",
    "# - performes subtraction\n",
    "print(7-2)\n",
    "\n",
    "# / performes division\n",
    "print(8/2)     #in python 3 (int)/(int) gives float value(4.0)\n",
    "\n",
    "# // floor division: floor division meaning that after performing the division it returns the lower integer value as the result\n",
    "print(10//3)     "
   ]
  },
  {
   "cell_type": "markdown",
   "metadata": {},
   "source": [
    " (10/3 =3.333333)---floor division gives lowest integer(10//3=3)"
   ]
  },
  {
   "cell_type": "markdown",
   "metadata": {},
   "source": [
    "### 2.Comparison"
   ]
  },
  {
   "cell_type": "markdown",
   "metadata": {},
   "source": [
    "Comparison operators returns boolean values(True or False)"
   ]
  },
  {
   "cell_type": "code",
   "execution_count": 33,
   "metadata": {},
   "outputs": [
    {
     "name": "stdout",
     "output_type": "stream",
     "text": [
      "True\n",
      "False\n",
      "True\n",
      "False\n",
      "False\n",
      "True\n"
     ]
    }
   ],
   "source": [
    "# ==\n",
    "print(5==5)\n",
    "\n",
    "# <\n",
    "print(8<4)\n",
    "\n",
    "# >\n",
    "print(5>3)\n",
    "\n",
    "# <=\n",
    "print(4<=2)\n",
    "\n",
    "# >=\n",
    "print(5>=9)\n",
    "\n",
    "# !=\n",
    "print(4!=3)"
   ]
  },
  {
   "cell_type": "markdown",
   "metadata": {},
   "source": [
    "### 3.Assignment"
   ]
  },
  {
   "cell_type": "code",
   "execution_count": 44,
   "metadata": {},
   "outputs": [
    {
     "name": "stdout",
     "output_type": "stream",
     "text": [
      "2\n",
      "4\n",
      "2\n",
      "4\n",
      "2.0\n",
      "4.0\n"
     ]
    }
   ],
   "source": [
    "a=2\n",
    "# =\n",
    "b=a\n",
    "print(b)\n",
    "\n",
    "# +=  {a+=b equivalent to a=a+b}\n",
    "a+=b\n",
    "print (a)\n",
    "\n",
    "# -=  {a-=b equivalent to a=a-b}\n",
    "a-=b\n",
    "print(a)\n",
    "\n",
    "# *=  {a*=b equivalent to a=a*b}\n",
    "a*=b\n",
    "print(a)\n",
    "\n",
    "# /=  {a/=b equivalent to a=a/b}\n",
    "a/=b\n",
    "print(a)\n",
    "\n",
    "# **=  {a**=b equivalent to a=a**b}\n",
    "a**=b\n",
    "print(a)\n"
   ]
  },
  {
   "cell_type": "markdown",
   "metadata": {},
   "source": [
    "### 4.Bitwise "
   ]
  },
  {
   "cell_type": "markdown",
   "metadata": {},
   "source": [
    "This works on bits(1,0) "
   ]
  },
  {
   "cell_type": "code",
   "execution_count": 45,
   "metadata": {},
   "outputs": [],
   "source": [
    "# | OR\n",
    "\n",
    "# & AND\n",
    "\n",
    "# ~ one's complement\n",
    "\n",
    "# ^ XOR\n",
    "\n",
    "# << left shift operator\n",
    "\n",
    "# >> Right shift operator\n"
   ]
  },
  {
   "cell_type": "markdown",
   "metadata": {},
   "source": [
    "### 5.Logical"
   ]
  },
  {
   "cell_type": "code",
   "execution_count": null,
   "metadata": {},
   "outputs": [],
   "source": [
    "# OR operator\n",
    "1 Or 1 =1\n",
    "1 or 0 =1\n",
    "0 or 1 =1\n",
    "0 or 0 =0\n",
    "\n",
    "# AND operator\n",
    "1 and 1 =1\n",
    "1 and 0 =0\n",
    "0 and 1 =0\n",
    "0 and 0 =0\n",
    "\n",
    "# NOT operator\n",
    "it returns the opposite value"
   ]
  },
  {
   "cell_type": "code",
   "execution_count": 50,
   "metadata": {},
   "outputs": [
    {
     "name": "stdout",
     "output_type": "stream",
     "text": [
      "True\n",
      "False\n"
     ]
    },
    {
     "ename": "NameError",
     "evalue": "name 'c' is not defined",
     "output_type": "error",
     "traceback": [
      "\u001b[1;31m---------------------------------------------------------------------------\u001b[0m",
      "\u001b[1;31mNameError\u001b[0m                                 Traceback (most recent call last)",
      "\u001b[1;32m<ipython-input-50-4e4a9521261e>\u001b[0m in \u001b[0;36m<module>\u001b[1;34m\u001b[0m\n\u001b[0;32m      3\u001b[0m \u001b[0mprint\u001b[0m\u001b[1;33m(\u001b[0m\u001b[0ma\u001b[0m \u001b[1;33m>\u001b[0m \u001b[0mb\u001b[0m \u001b[1;32mor\u001b[0m \u001b[0mb\u001b[0m \u001b[1;33m>\u001b[0m \u001b[0ma\u001b[0m\u001b[1;33m)\u001b[0m\u001b[1;33m\u001b[0m\u001b[1;33m\u001b[0m\u001b[0m\n\u001b[0;32m      4\u001b[0m \u001b[0mprint\u001b[0m\u001b[1;33m(\u001b[0m\u001b[0ma\u001b[0m \u001b[1;33m>\u001b[0m \u001b[0mb\u001b[0m \u001b[1;32mand\u001b[0m \u001b[0mb\u001b[0m \u001b[1;33m>\u001b[0m \u001b[0ma\u001b[0m\u001b[1;33m)\u001b[0m\u001b[1;33m\u001b[0m\u001b[1;33m\u001b[0m\u001b[0m\n\u001b[1;32m----> 5\u001b[1;33m \u001b[0mprint\u001b[0m\u001b[1;33m(\u001b[0m\u001b[0ma\u001b[0m \u001b[1;33m<\u001b[0m \u001b[0mb\u001b[0m \u001b[1;32mand\u001b[0m \u001b[0mb\u001b[0m \u001b[1;33m>\u001b[0m \u001b[0mc\u001b[0m\u001b[1;33m)\u001b[0m\u001b[1;33m\u001b[0m\u001b[1;33m\u001b[0m\u001b[0m\n\u001b[0m\u001b[0;32m      6\u001b[0m \u001b[0mprint\u001b[0m\u001b[1;33m(\u001b[0m\u001b[0ma\u001b[0m \u001b[1;33m>\u001b[0m \u001b[0mb\u001b[0m \u001b[1;32mand\u001b[0m \u001b[0mb\u001b[0m \u001b[1;33m>\u001b[0m \u001b[0ma\u001b[0m\u001b[1;33m)\u001b[0m\u001b[1;33m\u001b[0m\u001b[1;33m\u001b[0m\u001b[0m\n",
      "\u001b[1;31mNameError\u001b[0m: name 'c' is not defined"
     ]
    }
   ],
   "source": [
    "a=5\n",
    "b=8\n",
    "print(a > b or b > a)\n",
    "print(a > b and b > a)\n",
    "print(a < b and b > c)\n",
    "\n"
   ]
  },
  {
   "cell_type": "code",
   "execution_count": 52,
   "metadata": {},
   "outputs": [
    {
     "name": "stdout",
     "output_type": "stream",
     "text": [
      "False\n"
     ]
    }
   ],
   "source": [
    "print(a > b and b > c)"
   ]
  },
  {
   "cell_type": "markdown",
   "metadata": {},
   "source": [
    "Here c is not defined but i got false value how?<br>\n",
    "becuse in AND operation it checks the first value<br>\n",
    "ie, in print(a > b and b > c)<br>\n",
    "(a > b) checks first, if it is false then it will return false "
   ]
  },
  {
   "cell_type": "code",
   "execution_count": 53,
   "metadata": {},
   "outputs": [
    {
     "name": "stdout",
     "output_type": "stream",
     "text": [
      "True\n"
     ]
    }
   ],
   "source": [
    "print(not (a > b and b > c))"
   ]
  },
  {
   "cell_type": "markdown",
   "metadata": {},
   "source": [
    "### 6.Membership"
   ]
  },
  {
   "cell_type": "markdown",
   "metadata": {},
   "source": [
    "it checks the membership of a variable"
   ]
  },
  {
   "cell_type": "code",
   "execution_count": 57,
   "metadata": {},
   "outputs": [
    {
     "name": "stdout",
     "output_type": "stream",
     "text": [
      "True\n",
      "False\n",
      "True\n",
      "False\n"
     ]
    }
   ],
   "source": [
    "# in operator\n",
    "str1='pythonlanguage'\n",
    "print('y' in str1)\n",
    "print('x' in str1)\n",
    "\n",
    "# not in operator\n",
    "print('x' not in str1)\n",
    "print('y' not in str1)"
   ]
  },
  {
   "cell_type": "markdown",
   "metadata": {},
   "source": [
    "### 7.Identity"
   ]
  },
  {
   "cell_type": "code",
   "execution_count": null,
   "metadata": {},
   "outputs": [],
   "source": [
    "# is operator\n",
    "# is not operator"
   ]
  },
  {
   "cell_type": "code",
   "execution_count": 66,
   "metadata": {},
   "outputs": [
    {
     "name": "stdout",
     "output_type": "stream",
     "text": [
      "True\n",
      "True\n",
      "True\n",
      "False\n"
     ]
    }
   ],
   "source": [
    "a=10\n",
    "b=10\n",
    "print(a == b)\n",
    "print(a is b)\n",
    "\n",
    "x=1.5\n",
    "y=1.5\n",
    "print(x == y)\n",
    "print(x is y)\n",
    "\n"
   ]
  },
  {
   "cell_type": "markdown",
   "metadata": {},
   "source": [
    "for integer type [-5 to 256] holds same memory location after that it is different<br>\n",
    "while checking the is operator<br>\n",
    "[-5 to 256]  return True<bR>\n",
    "[257.258..]  return false"
   ]
  },
  {
   "cell_type": "code",
   "execution_count": 67,
   "metadata": {},
   "outputs": [
    {
     "name": "stdout",
     "output_type": "stream",
     "text": [
      "True\n",
      "False\n"
     ]
    }
   ],
   "source": [
    "a=257\n",
    "b=257\n",
    "print(a == b)\n",
    "print(a is b)\n"
   ]
  },
  {
   "cell_type": "code",
   "execution_count": 68,
   "metadata": {},
   "outputs": [
    {
     "data": {
      "text/plain": [
       "0.5"
      ]
     },
     "execution_count": 68,
     "metadata": {},
     "output_type": "execute_result"
    }
   ],
   "source": [
    "2**-1"
   ]
  },
  {
   "cell_type": "code",
   "execution_count": null,
   "metadata": {},
   "outputs": [],
   "source": []
  }
 ],
 "metadata": {
  "kernelspec": {
   "display_name": "Python 3",
   "language": "python",
   "name": "python3"
  },
  "language_info": {
   "codemirror_mode": {
    "name": "ipython",
    "version": 3
   },
   "file_extension": ".py",
   "mimetype": "text/x-python",
   "name": "python",
   "nbconvert_exporter": "python",
   "pygments_lexer": "ipython3",
   "version": "3.7.4"
  }
 },
 "nbformat": 4,
 "nbformat_minor": 2
}
