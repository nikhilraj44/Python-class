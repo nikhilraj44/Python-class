{
 "cells": [
  {
   "cell_type": "code",
   "execution_count": 5,
   "metadata": {},
   "outputs": [
    {
     "name": "stdout",
     "output_type": "stream",
     "text": [
      "enter the limit3\n",
      "sum= 6\n"
     ]
    }
   ],
   "source": [
    "limit=int(input(\"enter the limit\"))\n",
    "sum1=0\n",
    "n=0\n",
    "while n<=limit:\n",
    "    sum1=sum1+n\n",
    "    n=n+1\n",
    "print(\"sum=\",sum1)\n",
    "    \n",
    "    "
   ]
  },
  {
   "cell_type": "code",
   "execution_count": 9,
   "metadata": {},
   "outputs": [
    {
     "name": "stdout",
     "output_type": "stream",
     "text": [
      "Enter the number1\n",
      "1 is not a prime number\n"
     ]
    }
   ],
   "source": [
    "n=int(input(\"Enter the number\"))\n",
    "if n > 1:\n",
    "   for i in range(2,n):\n",
    "       if (n% i) == 0:\n",
    "           print(n,\"is not a prime number\")\n",
    "           break\n",
    "   else:\n",
    "       print(n,\"is a prime number\")\n",
    "else:\n",
    "   print(n,\"is not a prime number\")"
   ]
  },
  {
   "cell_type": "code",
   "execution_count": null,
   "metadata": {},
   "outputs": [],
   "source": []
  }
 ],
 "metadata": {
  "kernelspec": {
   "display_name": "Python 3",
   "language": "python",
   "name": "python3"
  },
  "language_info": {
   "codemirror_mode": {
    "name": "ipython",
    "version": 3
   },
   "file_extension": ".py",
   "mimetype": "text/x-python",
   "name": "python",
   "nbconvert_exporter": "python",
   "pygments_lexer": "ipython3",
   "version": "3.7.4"
  }
 },
 "nbformat": 4,
 "nbformat_minor": 4
}
